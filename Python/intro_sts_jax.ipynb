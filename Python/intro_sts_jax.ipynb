{
 "cells": [
  {
   "attachments": {},
   "cell_type": "markdown",
   "metadata": {},
   "source": [
    "## Prepare Notebook"
   ]
  },
  {
   "cell_type": "code",
   "execution_count": null,
   "metadata": {},
   "outputs": [],
   "source": [
    "import jax.numpy as jnp\n",
    "import jax.random as jr\n",
    "import pandas as pd\n",
    "import matplotlib.pyplot as plt\n",
    "import seaborn as sns\n",
    "import sts_jax.structural_time_series as sts\n",
    "\n",
    "\n",
    "plt.style.use(\"bmh\")\n",
    "plt.rcParams[\"figure.figsize\"] = [12, 7]\n",
    "plt.rcParams[\"figure.dpi\"] = 100\n",
    "plt.rcParams[\"figure.facecolor\"] = \"white\"\n",
    "\n",
    "\n",
    "%load_ext autoreload\n",
    "%autoreload 2\n",
    "%config InlineBackend.figure_format = \"retina\""
   ]
  },
  {
   "cell_type": "code",
   "execution_count": null,
   "metadata": {},
   "outputs": [],
   "source": [
    "key = jr.PRNGKey(0)"
   ]
  },
  {
   "attachments": {},
   "cell_type": "markdown",
   "metadata": {},
   "source": [
    "## Read Data"
   ]
  },
  {
   "cell_type": "code",
   "execution_count": null,
   "metadata": {},
   "outputs": [],
   "source": [
    "df = pd.read_csv(\"../data/sts_sample_data.csv\", parse_dates=[\"date\"])\n",
    "\n",
    "df.head()"
   ]
  },
  {
   "cell_type": "code",
   "execution_count": null,
   "metadata": {},
   "outputs": [],
   "source": [
    "threshold_date = pd.to_datetime(\"2020-07-01\")\n",
    "mask = \"date < @threshold_date\"\n",
    "\n",
    "df_train = df.query(mask)\n",
    "df_test = df.query(f\"~ ({mask})\")\n",
    "\n",
    "n_test = df_test.shape[0]\n",
    "\n",
    "fig, ax = plt.subplots()\n",
    "sns.lineplot(x=\"date\", y=\"y\", label=\"y_train\", data=df_train, color=\"C0\", ax=ax)\n",
    "sns.lineplot(x=\"date\", y=\"y\", label=\"y_test\", data=df_test, color=\"C1\", ax=ax)\n",
    "ax.axvline(threshold_date, color=\"black\", linestyle=\"--\", label=\"train test split\")\n",
    "ax.legend(loc=\"upper left\")\n",
    "ax.set(title=\"Train - Test Split\");"
   ]
  },
  {
   "attachments": {},
   "cell_type": "markdown",
   "metadata": {},
   "source": [
    "## Model Specification"
   ]
  },
  {
   "cell_type": "code",
   "execution_count": null,
   "metadata": {},
   "outputs": [],
   "source": [
    "x_train = jnp.array(df_train[\"x\"].to_numpy()[:, None])\n",
    "x_test = jnp.array(df_test[\"x\"].to_numpy()[:, None])\n",
    "y_train = jnp.array(df_train[\"y\"].to_numpy()[:, None])\n",
    "y_test = jnp.array(df_test[\"y\"].to_numpy()[:, None])"
   ]
  },
  {
   "cell_type": "code",
   "execution_count": null,
   "metadata": {},
   "outputs": [],
   "source": [
    "model = sts.StructuralTimeSeries(\n",
    "    obs_time_series=y_train,\n",
    "    components=[\n",
    "        sts.LocalLinearTrend(name=\"local_linear_trend\"),\n",
    "        sts.SeasonalTrig(\n",
    "            name=\"yearly_seasonality\", num_seasons=12, num_steps_per_season=30\n",
    "        ),\n",
    "        sts.SeasonalTrig(\n",
    "            name=\"monthly_seasonality\", num_seasons=30, num_steps_per_season=1\n",
    "        ),\n",
    "        sts.SeasonalDummy(\n",
    "            name=\"weekly_seasonality\", num_seasons=7, num_steps_per_season=1\n",
    "        ),\n",
    "        sts.LinearRegression(\n",
    "            name=\"x_exog\", dim_covariates=1, add_bias=True,\n",
    "        )\n",
    "    ],\n",
    "    covariates=x_train,\n",
    "    obs_distribution=\"Gaussian\",\n",
    ")"
   ]
  },
  {
   "cell_type": "code",
   "execution_count": null,
   "metadata": {},
   "outputs": [],
   "source": [
    "# Fit the model with MLE estimator\n",
    "mle_optimal_params, mle_losses = model.fit_mle(\n",
    "    obs_time_series=y_train, covariantes=x_train, key=key\n",
    ")"
   ]
  },
  {
   "cell_type": "code",
   "execution_count": null,
   "metadata": {},
   "outputs": [],
   "source": [
    "# Fit with HMC (NUTS), initialized by MLE estimation.\n",
    "nuts_param_samps, nuts_param_log_probs = model.fit_hmc(\n",
    "    obs_time_series=y_train,\n",
    "    covariantes=x_train,\n",
    "    num_samples=100,\n",
    "    initial_params=mle_optimal_params,\n",
    ")"
   ]
  },
  {
   "cell_type": "code",
   "execution_count": null,
   "metadata": {},
   "outputs": [],
   "source": [
    "forecast_means, forecast_obs = model.forecast(\n",
    "    obs_time_series=y_train,\n",
    "    sts_params=nuts_param_samps,\n",
    "    num_forecast_steps=n_test,\n",
    "    forecast_covariates=x_test,\n",
    ")"
   ]
  },
  {
   "cell_type": "code",
   "execution_count": null,
   "metadata": {},
   "outputs": [],
   "source": [
    "fig, ax = plt.subplots()\n",
    "sns.lineplot(x=\"date\", y=\"y\", label=\"y_test\", data=df_test, color=\"C1\", ax=ax)\n",
    "sns.lineplot(\n",
    "    x=df_test[\"date\"],\n",
    "    y=jnp.concatenate(forecast_means, axis=0).squeeze().mean(axis=0),\n",
    "    ax=ax,\n",
    ")"
   ]
  }
 ],
 "metadata": {
  "kernelspec": {
   "display_name": "website_projects-1IZj_WTw",
   "language": "python",
   "name": "python3"
  },
  "language_info": {
   "codemirror_mode": {
    "name": "ipython",
    "version": 3
   },
   "file_extension": ".py",
   "mimetype": "text/x-python",
   "name": "python",
   "nbconvert_exporter": "python",
   "pygments_lexer": "ipython3",
   "version": "3.10.8"
  },
  "orig_nbformat": 4,
  "vscode": {
   "interpreter": {
    "hash": "867ba48c05011db76db56a12fb95ccd32f7ac276df8f4ae698e0d475911a6ba0"
   }
  }
 },
 "nbformat": 4,
 "nbformat_minor": 2
}
