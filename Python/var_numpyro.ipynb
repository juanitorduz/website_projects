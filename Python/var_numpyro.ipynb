{
 "cells": [
  {
   "cell_type": "code",
   "execution_count": 2,
   "id": "1d85db25",
   "metadata": {},
   "outputs": [
    {
     "name": "stdout",
     "output_type": "stream",
     "text": [
      "The autoreload extension is already loaded. To reload it, use:\n",
      "  %reload_ext autoreload\n",
      "The jaxtyping extension is already loaded. To reload it, use:\n",
      "  %reload_ext jaxtyping\n"
     ]
    }
   ],
   "source": [
    "import arviz as az\n",
    "import matplotlib.pyplot as plt\n",
    "import numpy as np\n",
    "import numpyro\n",
    "from jax import random\n",
    "\n",
    "numpyro.set_host_device_count(n=4)\n",
    "\n",
    "rng_key = random.PRNGKey(seed=42)\n",
    "\n",
    "az.style.use(\"arviz-darkgrid\")\n",
    "plt.rcParams[\"figure.figsize\"] = [12, 7]\n",
    "plt.rcParams[\"figure.dpi\"] = 100\n",
    "plt.rcParams[\"figure.facecolor\"] = \"white\"\n",
    "\n",
    "%load_ext autoreload\n",
    "%autoreload 2\n",
    "%load_ext jaxtyping\n",
    "%jaxtyping.typechecker beartype.beartype\n",
    "%config InlineBackend.figure_format = \"retina\""
   ]
  },
  {
   "cell_type": "code",
   "execution_count": 13,
   "id": "48e3b2c0",
   "metadata": {},
   "outputs": [
    {
     "data": {
      "text/html": [
       "<div>\n",
       "<style scoped>\n",
       "    .dataframe tbody tr th:only-of-type {\n",
       "        vertical-align: middle;\n",
       "    }\n",
       "\n",
       "    .dataframe tbody tr th {\n",
       "        vertical-align: top;\n",
       "    }\n",
       "\n",
       "    .dataframe thead th {\n",
       "        text-align: right;\n",
       "    }\n",
       "</style>\n",
       "<table border=\"1\" class=\"dataframe\">\n",
       "  <thead>\n",
       "    <tr style=\"text-align: right;\">\n",
       "      <th></th>\n",
       "      <th>realgdp</th>\n",
       "      <th>realcons</th>\n",
       "      <th>realinv</th>\n",
       "    </tr>\n",
       "  </thead>\n",
       "  <tbody>\n",
       "    <tr>\n",
       "      <th>1959-06-30</th>\n",
       "      <td>0.024942</td>\n",
       "      <td>0.015286</td>\n",
       "      <td>0.080213</td>\n",
       "    </tr>\n",
       "    <tr>\n",
       "      <th>1959-09-30</th>\n",
       "      <td>-0.001193</td>\n",
       "      <td>0.010386</td>\n",
       "      <td>-0.072131</td>\n",
       "    </tr>\n",
       "    <tr>\n",
       "      <th>1959-12-31</th>\n",
       "      <td>0.003495</td>\n",
       "      <td>0.001084</td>\n",
       "      <td>0.034425</td>\n",
       "    </tr>\n",
       "    <tr>\n",
       "      <th>1960-03-31</th>\n",
       "      <td>0.022190</td>\n",
       "      <td>0.009534</td>\n",
       "      <td>0.102664</td>\n",
       "    </tr>\n",
       "    <tr>\n",
       "      <th>1960-06-30</th>\n",
       "      <td>-0.004685</td>\n",
       "      <td>0.012572</td>\n",
       "      <td>-0.106694</td>\n",
       "    </tr>\n",
       "  </tbody>\n",
       "</table>\n",
       "</div>"
      ],
      "text/plain": [
       "             realgdp  realcons   realinv\n",
       "1959-06-30  0.024942  0.015286  0.080213\n",
       "1959-09-30 -0.001193  0.010386 -0.072131\n",
       "1959-12-31  0.003495  0.001084  0.034425\n",
       "1960-03-31  0.022190  0.009534  0.102664\n",
       "1960-06-30 -0.004685  0.012572 -0.106694"
      ]
     },
     "execution_count": 13,
     "metadata": {},
     "output_type": "execute_result"
    }
   ],
   "source": [
    "import pandas as pd\n",
    "import statsmodels.api as sm\n",
    "from statsmodels.tsa.api import VAR\n",
    "from statsmodels.tsa.base.datetools import dates_from_str\n",
    "\n",
    "mdata = sm.datasets.macrodata.load_pandas().data\n",
    "\n",
    "# prepare the dates index\n",
    "dates = mdata[[\"year\", \"quarter\"]].astype(int).astype(str)\n",
    "\n",
    "quarterly = dates[\"year\"] + \"Q\" + dates[\"quarter\"]\n",
    "\n",
    "quarterly = dates_from_str(quarterly)\n",
    "\n",
    "mdata = mdata[[\"realgdp\", \"realcons\", \"realinv\"]]\n",
    "\n",
    "mdata.index = pd.DatetimeIndex(quarterly, freq=\"QE\")\n",
    "\n",
    "data = np.log(mdata).diff().dropna()\n",
    "\n",
    "data.head()"
   ]
  },
  {
   "cell_type": "code",
   "execution_count": 16,
   "id": "d1f65223",
   "metadata": {},
   "outputs": [
    {
     "data": {
      "text/plain": [
       "  Summary of Regression Results   \n",
       "==================================\n",
       "Model:                         VAR\n",
       "Method:                        OLS\n",
       "Date:           Wed, 01, Oct, 2025\n",
       "Time:                     17:46:53\n",
       "--------------------------------------------------------------------\n",
       "No. of Equations:         3.00000    BIC:                   -27.5830\n",
       "Nobs:                     200.000    HQIC:                  -27.7892\n",
       "Log likelihood:           1962.57    FPE:                7.42129e-13\n",
       "AIC:                     -27.9293    Det(Omega_mle):     6.69358e-13\n",
       "--------------------------------------------------------------------\n",
       "Results for equation realgdp\n",
       "==============================================================================\n",
       "                 coefficient       std. error           t-stat            prob\n",
       "------------------------------------------------------------------------------\n",
       "const               0.001527         0.001119            1.365           0.172\n",
       "L1.realgdp         -0.279435         0.169663           -1.647           0.100\n",
       "L1.realcons         0.675016         0.131285            5.142           0.000\n",
       "L1.realinv          0.033219         0.026194            1.268           0.205\n",
       "L2.realgdp          0.008221         0.173522            0.047           0.962\n",
       "L2.realcons         0.290458         0.145904            1.991           0.047\n",
       "L2.realinv         -0.007321         0.025786           -0.284           0.776\n",
       "==============================================================================\n",
       "\n",
       "Results for equation realcons\n",
       "==============================================================================\n",
       "                 coefficient       std. error           t-stat            prob\n",
       "------------------------------------------------------------------------------\n",
       "const               0.005460         0.000969            5.634           0.000\n",
       "L1.realgdp         -0.100468         0.146924           -0.684           0.494\n",
       "L1.realcons         0.268640         0.113690            2.363           0.018\n",
       "L1.realinv          0.025739         0.022683            1.135           0.257\n",
       "L2.realgdp         -0.123174         0.150267           -0.820           0.412\n",
       "L2.realcons         0.232499         0.126350            1.840           0.066\n",
       "L2.realinv          0.023504         0.022330            1.053           0.293\n",
       "==============================================================================\n",
       "\n",
       "Results for equation realinv\n",
       "==============================================================================\n",
       "                 coefficient       std. error           t-stat            prob\n",
       "------------------------------------------------------------------------------\n",
       "const              -0.023903         0.005863           -4.077           0.000\n",
       "L1.realgdp         -1.970974         0.888892           -2.217           0.027\n",
       "L1.realcons         4.414162         0.687825            6.418           0.000\n",
       "L1.realinv          0.225479         0.137234            1.643           0.100\n",
       "L2.realgdp          0.380786         0.909114            0.419           0.675\n",
       "L2.realcons         0.800281         0.764416            1.047           0.295\n",
       "L2.realinv         -0.124079         0.135098           -0.918           0.358\n",
       "==============================================================================\n",
       "\n",
       "Correlation matrix of residuals\n",
       "             realgdp  realcons   realinv\n",
       "realgdp     1.000000  0.603316  0.750722\n",
       "realcons    0.603316  1.000000  0.131951\n",
       "realinv     0.750722  0.131951  1.000000\n",
       "\n"
      ]
     },
     "execution_count": 16,
     "metadata": {},
     "output_type": "execute_result"
    }
   ],
   "source": [
    "var_model = VAR(data)\n",
    "\n",
    "var_results = var_model.fit(maxlags=2)\n",
    "\n",
    "var_results.summary()"
   ]
  },
  {
   "cell_type": "code",
   "execution_count": null,
   "id": "e1072803",
   "metadata": {},
   "outputs": [],
   "source": []
  }
 ],
 "metadata": {
  "kernelspec": {
   "display_name": "default",
   "language": "python",
   "name": "python3"
  },
  "language_info": {
   "codemirror_mode": {
    "name": "ipython",
    "version": 3
   },
   "file_extension": ".py",
   "mimetype": "text/x-python",
   "name": "python",
   "nbconvert_exporter": "python",
   "pygments_lexer": "ipython3",
   "version": "3.12.11"
  }
 },
 "nbformat": 4,
 "nbformat_minor": 5
}
