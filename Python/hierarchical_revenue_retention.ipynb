{
 "cells": [
  {
   "cell_type": "code",
   "execution_count": 1,
   "id": "05ef2e97",
   "metadata": {},
   "outputs": [],
   "source": [
    "from datetime import UTC, datetime\n",
    "\n",
    "import numpy as np\n",
    "import polars as pl\n",
    "from pydantic import BaseModel\n",
    "from retention_data import CohortDataGenerator"
   ]
  },
  {
   "cell_type": "code",
   "execution_count": 2,
   "id": "96a603cf",
   "metadata": {},
   "outputs": [],
   "source": [
    "seed: int = sum(map(ord, \"retention\"))\n",
    "rng: np.random.Generator = np.random.default_rng(seed=seed)"
   ]
  },
  {
   "cell_type": "code",
   "execution_count": 3,
   "id": "5681206a",
   "metadata": {},
   "outputs": [
    {
     "data": {
      "text/html": [
       "<div><style>\n",
       ".dataframe > thead > tr,\n",
       ".dataframe > tbody > tr {\n",
       "  text-align: right;\n",
       "  white-space: pre-wrap;\n",
       "}\n",
       "</style>\n",
       "<small>shape: (5, 11)</small><table border=\"1\" class=\"dataframe\"><thead><tr><th>cohort</th><th>n_users</th><th>period</th><th>age</th><th>cohort_age</th><th>retention_true_mu</th><th>retention_true</th><th>n_active_users</th><th>revenue</th><th>retention</th><th>market</th></tr><tr><td>date</td><td>i64</td><td>date</td><td>i64</td><td>i64</td><td>f64</td><td>f64</td><td>i64</td><td>f64</td><td>f64</td><td>str</td></tr></thead><tbody><tr><td>2020-01-01</td><td>150</td><td>2020-01-01</td><td>1430</td><td>0</td><td>-1.807373</td><td>0.140956</td><td>150</td><td>14019.256906</td><td>1.0</td><td>&quot;a&quot;</td></tr><tr><td>2020-01-01</td><td>150</td><td>2020-02-01</td><td>1430</td><td>31</td><td>-1.474736</td><td>0.186224</td><td>25</td><td>1886.501237</td><td>0.166667</td><td>&quot;a&quot;</td></tr><tr><td>2020-01-01</td><td>150</td><td>2020-03-01</td><td>1430</td><td>60</td><td>-2.281286</td><td>0.092685</td><td>13</td><td>1098.136314</td><td>0.086667</td><td>&quot;a&quot;</td></tr><tr><td>2020-01-01</td><td>150</td><td>2020-04-01</td><td>1430</td><td>91</td><td>-3.20661</td><td>0.038918</td><td>6</td><td>477.852458</td><td>0.04</td><td>&quot;a&quot;</td></tr><tr><td>2020-01-01</td><td>150</td><td>2020-05-01</td><td>1430</td><td>121</td><td>-3.112983</td><td>0.042575</td><td>2</td><td>214.667937</td><td>0.013333</td><td>&quot;a&quot;</td></tr></tbody></table></div>"
      ],
      "text/plain": [
       "shape: (5, 11)\n",
       "┌────────────┬─────────┬────────────┬──────┬───┬───────────────┬──────────────┬───────────┬────────┐\n",
       "│ cohort     ┆ n_users ┆ period     ┆ age  ┆ … ┆ n_active_user ┆ revenue      ┆ retention ┆ market │\n",
       "│ ---        ┆ ---     ┆ ---        ┆ ---  ┆   ┆ s             ┆ ---          ┆ ---       ┆ ---    │\n",
       "│ date       ┆ i64     ┆ date       ┆ i64  ┆   ┆ ---           ┆ f64          ┆ f64       ┆ str    │\n",
       "│            ┆         ┆            ┆      ┆   ┆ i64           ┆              ┆           ┆        │\n",
       "╞════════════╪═════════╪════════════╪══════╪═══╪═══════════════╪══════════════╪═══════════╪════════╡\n",
       "│ 2020-01-01 ┆ 150     ┆ 2020-01-01 ┆ 1430 ┆ … ┆ 150           ┆ 14019.256906 ┆ 1.0       ┆ a      │\n",
       "│ 2020-01-01 ┆ 150     ┆ 2020-02-01 ┆ 1430 ┆ … ┆ 25            ┆ 1886.501237  ┆ 0.166667  ┆ a      │\n",
       "│ 2020-01-01 ┆ 150     ┆ 2020-03-01 ┆ 1430 ┆ … ┆ 13            ┆ 1098.136314  ┆ 0.086667  ┆ a      │\n",
       "│ 2020-01-01 ┆ 150     ┆ 2020-04-01 ┆ 1430 ┆ … ┆ 6             ┆ 477.852458   ┆ 0.04      ┆ a      │\n",
       "│ 2020-01-01 ┆ 150     ┆ 2020-05-01 ┆ 1430 ┆ … ┆ 2             ┆ 214.667937   ┆ 0.013333  ┆ a      │\n",
       "└────────────┴─────────┴────────────┴──────┴───┴───────────────┴──────────────┴───────────┴────────┘"
      ]
     },
     "execution_count": 3,
     "metadata": {},
     "output_type": "execute_result"
    }
   ],
   "source": [
    "class Market(BaseModel):\n",
    "    name: str\n",
    "    start_date: datetime\n",
    "    n_cohorts: int\n",
    "    user_base: int = 10_000\n",
    "\n",
    "\n",
    "class MarketDataGenerator:\n",
    "    def __init__(self, markets: list[Market], rng: np.random.Generator):\n",
    "        self.markets = markets\n",
    "        self.rng = rng\n",
    "\n",
    "    def run(self) -> pl.DataFrame:\n",
    "        data_dfs: list[pl.DataFrame] = []\n",
    "        for market in self.markets:\n",
    "            cohort_generator = CohortDataGenerator(\n",
    "                rng=self.rng, start_cohort=market.start_date, n_cohorts=market.n_cohorts\n",
    "            )\n",
    "            data_df = cohort_generator.run()\n",
    "            data_df = data_df.with_columns(\n",
    "                (pl.col(\"n_active_users\") / pl.col(\"n_users\")).alias(\"retention\"),\n",
    "                pl.lit(market.name).alias(\"market\"),\n",
    "            )\n",
    "            data_dfs.append(data_df)\n",
    "        return pl.concat(data_dfs)\n",
    "\n",
    "\n",
    "markets = [\n",
    "    Market(\n",
    "        name=\"a\",\n",
    "        start_date=datetime(2020, 1, 1, tzinfo=UTC),\n",
    "        n_cohorts=48,\n",
    "        user_base=10_000,\n",
    "    ),\n",
    "    Market(\n",
    "        name=\"b\",\n",
    "        start_date=datetime(2020, 6, 1, tzinfo=UTC),\n",
    "        n_cohorts=43,\n",
    "        user_base=3_000,\n",
    "    ),\n",
    "    Market(\n",
    "        name=\"c\",\n",
    "        start_date=datetime(2022, 1, 1, tzinfo=UTC),\n",
    "        n_cohorts=24,\n",
    "        user_base=1_000,\n",
    "    ),\n",
    "]\n",
    "\n",
    "market_data_generator = MarketDataGenerator(markets=markets, rng=rng)\n",
    "data_df = market_data_generator.run()\n",
    "\n",
    "data_df.head()"
   ]
  },
  {
   "cell_type": "code",
   "execution_count": null,
   "id": "7b5c2500",
   "metadata": {},
   "outputs": [],
   "source": []
  }
 ],
 "metadata": {
  "kernelspec": {
   "display_name": "Python 3",
   "language": "python",
   "name": "python3"
  },
  "language_info": {
   "codemirror_mode": {
    "name": "ipython",
    "version": 3
   },
   "file_extension": ".py",
   "mimetype": "text/x-python",
   "name": "python",
   "nbconvert_exporter": "python",
   "pygments_lexer": "ipython3",
   "version": "3.12.11"
  }
 },
 "nbformat": 4,
 "nbformat_minor": 5
}
